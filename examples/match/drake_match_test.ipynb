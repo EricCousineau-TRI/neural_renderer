{
 "cells": [
  {
   "cell_type": "markdown",
   "id": "5472e086",
   "metadata": {},
   "source": [
    "Render sphere at position; posture camera, and ensure we have the same setup\n",
    "(coordinate, projects, etc.) as Drake.\n",
    "\n",
    "Using images + settings from:\n",
    "https://nbviewer.jupyter.org/github/EricCousineau-TRI/repro/blob/b0fc5a7/drake_stuff/notebooks/sphere_rendering.ipynb"
   ]
  },
  {
   "cell_type": "code",
   "execution_count": 1,
   "id": "3ad13ab6",
   "metadata": {},
   "outputs": [],
   "source": [
    "import dataclasses as dc\n",
    "import os\n",
    "\n",
    "import torch\n",
    "import numpy as np\n",
    "from PIL import Image\n",
    "import tqdm\n",
    "\n",
    "import neural_renderer as nr\n",
    "from simple_mesh import Mesh, make_fake_textures, intrinsic_matrix_from_fov"
   ]
  },
  {
   "cell_type": "code",
   "execution_count": 2,
   "id": "5d45d817",
   "metadata": {},
   "outputs": [],
   "source": [
    "np.set_printoptions(formatter={\"float_kind\": lambda x: f\"{x:,.4f}\"})"
   ]
  },
  {
   "cell_type": "code",
   "execution_count": 3,
   "id": "976bf4af",
   "metadata": {},
   "outputs": [],
   "source": [
    "torch.set_grad_enabled(False)\n",
    "device = torch.device(\"cuda\")\n",
    "dtype = torch.float32"
   ]
  },
  {
   "cell_type": "code",
   "execution_count": 4,
   "id": "73ee9afb",
   "metadata": {},
   "outputs": [],
   "source": [
    "example_dir = \"..\"\n",
    "mesh_dir = os.path.join(example_dir, 'data')"
   ]
  },
  {
   "cell_type": "code",
   "execution_count": 5,
   "id": "c5ef2b4a",
   "metadata": {},
   "outputs": [],
   "source": [
    "I3 = np.eye(3)\n",
    "R_z90 = np.array([\n",
    "    [0, 1, 0],\n",
    "    [-1, 0, 0],\n",
    "    [0, 0, 1],\n",
    "])"
   ]
  },
  {
   "cell_type": "code",
   "execution_count": 6,
   "id": "516fbac6",
   "metadata": {},
   "outputs": [],
   "source": [
    "@dc.dataclass\n",
    "class Setup:\n",
    "    p_WC: np.ndarray\n",
    "    R_WC: np.ndarray"
   ]
  },
  {
   "cell_type": "code",
   "execution_count": 7,
   "id": "37415161",
   "metadata": {},
   "outputs": [
    {
     "name": "stdout",
     "output_type": "stream",
     "text": [
      "[[154.5097 0.0000 63.5000]\n",
      " [0.0000 154.5097 63.5000]\n",
      " [0.0000 0.0000 1.0000]]\n"
     ]
    }
   ],
   "source": [
    "width = 128\n",
    "height = 128\n",
    "fov_y = np.pi / 4\n",
    "K = intrinsic_matrix_from_fov(width, height, fov_y)\n",
    "print(K)\n",
    "K = torch.from_numpy(K).to(device, dtype).unsqueeze(0)"
   ]
  },
  {
   "cell_type": "code",
   "execution_count": 8,
   "id": "f7520798",
   "metadata": {},
   "outputs": [],
   "source": [
    "z = -10.0\n",
    "setups = [\n",
    "    Setup([0, 0, z], I3),\n",
    "    Setup([1, 0, z], I3),\n",
    "    Setup([0, 1, z], I3),\n",
    "    Setup([0, 0, z], R_z90),\n",
    "]\n",
    "\n",
    "# Renders corresponding to above camera positions.\n",
    "drake_image_files = [\n",
    "    \"./pyramid_render_0.png\",\n",
    "    \"./pyramid_render_1.png\",\n",
    "    \"./pyramid_render_2.png\",\n",
    "    \"./pyramid_render_3.png\",\n",
    "]"
   ]
  },
  {
   "cell_type": "code",
   "execution_count": 9,
   "id": "7b72e700",
   "metadata": {},
   "outputs": [],
   "source": [
    "# load template once.\n",
    "template_file = os.path.join(mesh_dir, 'pyramid_lowpoly.obj')\n",
    "# Postured at origin.\n",
    "scene = Mesh.from_file(template_file)\n",
    "\n",
    "# create renderer\n",
    "assert width == height\n",
    "renderer = nr.Renderer(\n",
    "    camera_mode='projection',\n",
    "    projection_left_hand=False,\n",
    "    image_size=width,\n",
    "    light_direction=[0, 0, -1],\n",
    "    light_intensity_directional=0.5,\n",
    ")"
   ]
  },
  {
   "cell_type": "code",
   "execution_count": 10,
   "id": "e0682e79",
   "metadata": {},
   "outputs": [],
   "source": [
    "def estimate_mask(rgb):\n",
    "    bg = rgb[0, 0, :]\n",
    "    return (rgb == bg).all(axis=2)"
   ]
  },
  {
   "cell_type": "code",
   "execution_count": 11,
   "id": "2a81887e",
   "metadata": {},
   "outputs": [
    {
     "data": {
      "image/png": "[encoded data removed]",
      "text/plain": [
       "<PIL.Image.Image image mode=RGB size=256x128 at 0x7FDFA9FC3198>"
      ]
     },
     "metadata": {},
     "output_type": "display_data"
    },
    {
     "data": {
      "image/png": "[encoded data removed]",
      "text/plain": [
       "<PIL.Image.Image image mode=1 size=384x128 at 0x7FDFA8D9CC50>"
      ]
     },
     "metadata": {},
     "output_type": "display_data"
    },
    {
     "name": "stdout",
     "output_type": "stream",
     "text": [
      "\n",
      "---\n",
      "\n"
     ]
    },
    {
     "data": {
      "image/png": "[encoded data removed]",
      "text/plain": [
       "<PIL.Image.Image image mode=RGB size=256x128 at 0x7FDFA8D9CCC0>"
      ]
     },
     "metadata": {},
     "output_type": "display_data"
    },
    {
     "data": {
      "image/png": "[encoded data removed]",
      "text/plain": [
       "<PIL.Image.Image image mode=1 size=384x128 at 0x7FE0983F17B8>"
      ]
     },
     "metadata": {},
     "output_type": "display_data"
    },
    {
     "name": "stdout",
     "output_type": "stream",
     "text": [
      "\n",
      "---\n",
      "\n"
     ]
    },
    {
     "data": {
      "image/png": "[encoded data removed]",
      "text/plain": [
       "<PIL.Image.Image image mode=RGB size=256x128 at 0x7FDFA8D9CCC0>"
      ]
     },
     "metadata": {},
     "output_type": "display_data"
    },
    {
     "data": {
      "image/png": "[encoded data removed]",
      "text/plain": [
       "<PIL.Image.Image image mode=1 size=384x128 at 0x7FDFA9FC3208>"
      ]
     },
     "metadata": {},
     "output_type": "display_data"
    },
    {
     "name": "stdout",
     "output_type": "stream",
     "text": [
      "\n",
      "---\n",
      "\n"
     ]
    },
    {
     "data": {
      "image/png": "[encoded data removed]",
      "text/plain": [
       "<PIL.Image.Image image mode=RGB size=256x128 at 0x7FDFA8D9CC50>"
      ]
     },
     "metadata": {},
     "output_type": "display_data"
    },
    {
     "data": {
      "image/png": "[encoded data removed]",
      "text/plain": [
       "<PIL.Image.Image image mode=1 size=384x128 at 0x7FDFA8D9CE48>"
      ]
     },
     "metadata": {},
     "output_type": "display_data"
    },
    {
     "name": "stdout",
     "output_type": "stream",
     "text": [
      "\n",
      "---\n",
      "\n"
     ]
    }
   ],
   "source": [
    "for i, setup in enumerate(setups):\n",
    "    # NumPy.\n",
    "    p_WC = np.asarray(setup.p_WC)\n",
    "    R_WC = np.asarray(setup.R_WC)\n",
    "    \n",
    "    # Invert.\n",
    "    R_CW = R_WC.T\n",
    "    p_CW = -R_CW @ p_WC\n",
    "\n",
    "    # torch.\n",
    "    vertices, faces = scene.unsqueeze()\n",
    "    fake_textures = make_fake_textures(faces)\n",
    "    p_CW = torch.from_numpy(p_CW).to(device, dtype).unsqueeze(0)\n",
    "    R_CW = torch.from_numpy(R_CW).to(device, dtype).unsqueeze(0)\n",
    "\n",
    "    images = renderer.render_rgb(\n",
    "        vertices,\n",
    "        faces,\n",
    "        textures=fake_textures,\n",
    "        R=R_CW,\n",
    "        t=p_CW,\n",
    "        K=K,\n",
    "    )\n",
    "    image = images.squeeze(0)\n",
    "\n",
    "    # Save image.\n",
    "    rgb = image.detach().cpu().numpy().transpose(1, 2, 0)\n",
    "    rgb = (rgb * 255).astype(np.uint8)\n",
    "    mask = estimate_mask(rgb)\n",
    "\n",
    "    drake_rgb = Image.open(drake_image_files[i])\n",
    "    drake_rgb = np.asarray(drake_rgb)\n",
    "    drake_rgb = drake_rgb[:, :, :3]  # remove alpha channel\n",
    "    drake_mask = estimate_mask(drake_rgb)\n",
    "    \n",
    "    diff_mask = mask != drake_mask\n",
    "    \n",
    "    rgb_stacked = np.concatenate([rgb, drake_rgb], axis=1)\n",
    "    display(Image.fromarray(rgb_stacked))\n",
    "    mask_stacked = np.concatenate([mask, drake_mask, diff_mask], axis=1)\n",
    "    display(Image.fromarray(mask_stacked))\n",
    "    print(\"\\n---\\n\")"
   ]
  },
  {
   "cell_type": "code",
   "execution_count": null,
   "id": "1c5f11c4",
   "metadata": {},
   "outputs": [],
   "source": []
  }
 ],
 "metadata": {
  "kernelspec": {
   "display_name": "Python 3",
   "language": "python",
   "name": "python3"
  },
  "language_info": {
   "codemirror_mode": {
    "name": "ipython",
    "version": 3
   },
   "file_extension": ".py",
   "mimetype": "text/x-python",
   "name": "python",
   "nbconvert_exporter": "python",
   "pygments_lexer": "ipython3",
   "version": "3.6.9"
  }
 },
 "nbformat": 4,
 "nbformat_minor": 5
}
